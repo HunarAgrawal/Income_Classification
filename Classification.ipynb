{
 "cells": [
  {
   "cell_type": "markdown",
   "id": "75b1ee2d",
   "metadata": {},
   "source": [
    "1. **Logistic Regression**"
   ]
  },
  {
   "cell_type": "code",
   "execution_count": 12,
   "id": "9a8edc59",
   "metadata": {},
   "outputs": [
    {
     "name": "stdout",
     "output_type": "stream",
     "text": [
      "Data shape: (32561, 15)\n",
      "   Age          WorkClass  fnlwgt   Education  EducationNum  \\\n",
      "0   39          State-gov   77516   Bachelors            13   \n",
      "1   50   Self-emp-not-inc   83311   Bachelors            13   \n",
      "2   38            Private  215646     HS-grad             9   \n",
      "3   53            Private  234721        11th             7   \n",
      "4   28            Private  338409   Bachelors            13   \n",
      "\n",
      "         MaritalStatus          Occupation    Relationship    Race      Sex  \\\n",
      "0        Never-married        Adm-clerical   Not-in-family   White     Male   \n",
      "1   Married-civ-spouse     Exec-managerial         Husband   White     Male   \n",
      "2             Divorced   Handlers-cleaners   Not-in-family   White     Male   \n",
      "3   Married-civ-spouse   Handlers-cleaners         Husband   Black     Male   \n",
      "4   Married-civ-spouse      Prof-specialty            Wife   Black   Female   \n",
      "\n",
      "   CapitalGain  CapitalLoss  HoursPerWeek   NativeCountry  Income  \n",
      "0         2174            0            40   United-States   <=50K  \n",
      "1            0            0            13   United-States   <=50K  \n",
      "2            0            0            40   United-States   <=50K  \n",
      "3            0            0            40   United-States   <=50K  \n",
      "4            0            0            40            Cuba   <=50K  \n"
     ]
    }
   ],
   "source": [
    "import pandas as pd\n",
    "from sklearn.model_selection import train_test_split\n",
    "from sklearn.preprocessing import StandardScaler, LabelEncoder\n",
    "from sklearn.linear_model import LogisticRegression\n",
    "from sklearn.metrics import accuracy_score, classification_report\n",
    "\n",
    "# Load the dataset\n",
    "url = \"https://archive.ics.uci.edu/ml/machine-learning-databases/adult/adult.data\"\n",
    "column_names = ['Age', 'WorkClass', 'fnlwgt', 'Education', 'EducationNum', 'MaritalStatus', 'Occupation', \n",
    "                'Relationship', 'Race', 'Sex', 'CapitalGain', 'CapitalLoss', 'HoursPerWeek', 'NativeCountry', 'Income']\n",
    "\n",
    "# Load data from the UCI repository (or use a local file path)\n",
    "data = pd.read_csv(url, names=column_names, na_values=\" ?\", header=None)\n",
    "\n",
    "# Display basic information\n",
    "print(\"Data shape:\", data.shape)\n",
    "print(data.head())\n",
    "\n",
    "# Handle missing values by filling with the most frequent value in each column\n",
    "data.fillna(data.mode().iloc[0], inplace=True)\n",
    "\n",
    "# Encode categorical variables using LabelEncoder\n",
    "encoder = LabelEncoder()\n",
    "categorical_cols = data.select_dtypes(include=['object']).columns\n",
    "for col in categorical_cols:\n",
    "    data[col] = encoder.fit_transform(data[col])\n",
    "\n"
   ]
  },
  {
   "cell_type": "markdown",
   "id": "7e2ae8b7",
   "metadata": {},
   "source": [
    "2. **Training the model (Data Splitting and Data Fitting)**"
   ]
  },
  {
   "cell_type": "code",
   "execution_count": null,
   "id": "4d647ce7",
   "metadata": {},
   "outputs": [],
   "source": [
    "# Separate features (X) and target (y)\n",
    "X = data.drop(columns=['Income'])\n",
    "y = data['Income']\n",
    "\n",
    "# Split into training and testing datasets\n",
    "X_train, X_test, y_train, y_test = train_test_split(X, y, test_size=0.2, random_state=42)\n",
    "\n",
    "# Standardize the features\n",
    "scaler = StandardScaler()\n",
    "X_train_scaled = scaler.fit_transform(X_train)\n",
    "X_test_scaled = scaler.transform(X_test)\n",
    "\n",
    "# Train a Logistic Regression model\n",
    "logistic_model = LogisticRegression(random_state=42)\n",
    "logistic_model.fit(X_train_scaled, y_train)\n",
    "\n",
    "# Evaluate the model on the test data\n",
    "y_test_pred = logistic_model.predict(X_test_scaled)\n"
   ]
  },
  {
   "cell_type": "markdown",
   "id": "e5a50af3",
   "metadata": {},
   "source": [
    "3. **Print performance metrics**"
   ]
  },
  {
   "cell_type": "code",
   "execution_count": 13,
   "id": "3eac2798",
   "metadata": {},
   "outputs": [
    {
     "name": "stdout",
     "output_type": "stream",
     "text": [
      "\n",
      "\n",
      "Test Accuracy: 0.8258866881621373\n",
      "\n",
      "\n",
      "Classification Report:\n",
      "               precision    recall  f1-score   support\n",
      "\n",
      "           0       0.85      0.94      0.89      4942\n",
      "           1       0.72      0.46      0.56      1571\n",
      "\n",
      "    accuracy                           0.83      6513\n",
      "   macro avg       0.78      0.70      0.73      6513\n",
      "weighted avg       0.81      0.83      0.81      6513\n",
      "\n"
     ]
    }
   ],
   "source": [
    "\n",
    "print(\"\\n\\nTest Accuracy:\", accuracy_score(y_test, y_test_pred))\n",
    "print(\"\\n\\nClassification Report:\\n\", classification_report(y_test, y_test_pred))\n"
   ]
  },
  {
   "cell_type": "markdown",
   "id": "5c0d6fb3",
   "metadata": {},
   "source": [
    "4. **Save the predictions on the test set to a CSV file**"
   ]
  },
  {
   "cell_type": "code",
   "execution_count": 11,
   "id": "585bae1b",
   "metadata": {},
   "outputs": [
    {
     "name": "stdout",
     "output_type": "stream",
     "text": [
      "\n",
      "Predictions saved to 'test_predictions.csv'.\n"
     ]
    }
   ],
   "source": [
    "\n",
    "test_predictions = pd.DataFrame({'Actual': y_test, 'Predicted': y_test_pred_best})\n",
    "test_predictions.to_csv('test_predictions.csv', index=False)\n",
    "\n",
    "print(\"\\nPredictions saved to 'test_predictions.csv'.\")"
   ]
  },
  {
   "cell_type": "code",
   "execution_count": null,
   "id": "6c6ace06",
   "metadata": {},
   "outputs": [],
   "source": []
  }
 ],
 "metadata": {
  "kernelspec": {
   "display_name": "Python 3 (ipykernel)",
   "language": "python",
   "name": "python3"
  },
  "language_info": {
   "codemirror_mode": {
    "name": "ipython",
    "version": 3
   },
   "file_extension": ".py",
   "mimetype": "text/x-python",
   "name": "python",
   "nbconvert_exporter": "python",
   "pygments_lexer": "ipython3",
   "version": "3.11.5"
  }
 },
 "nbformat": 4,
 "nbformat_minor": 5
}
